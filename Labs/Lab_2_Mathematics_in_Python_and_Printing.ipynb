{
 "cells": [
  {
   "cell_type": "markdown",
   "id": "b013197d",
   "metadata": {},
   "source": [
    "### Basic Maths"
   ]
  },
  {
   "cell_type": "code",
   "execution_count": 1,
   "id": "eb9f4329",
   "metadata": {},
   "outputs": [],
   "source": [
    "x = 1\n",
    "y = 2\n",
    "z = 5"
   ]
  },
  {
   "cell_type": "markdown",
   "id": "094ee28f",
   "metadata": {},
   "source": [
    "Addition"
   ]
  },
  {
   "cell_type": "code",
   "execution_count": 2,
   "id": "dfd9879f",
   "metadata": {},
   "outputs": [],
   "source": [
    "a = x + y + z\n",
    "print(a)"
   ]
  },
  {
   "cell_type": "markdown",
   "id": "748a79ce",
   "metadata": {},
   "source": [
    "Subtraction"
   ]
  },
  {
   "cell_type": "code",
   "execution_count": 3,
   "id": "4aab1b71",
   "metadata": {},
   "outputs": [],
   "source": [
    "y - z"
   ]
  },
  {
   "cell_type": "markdown",
   "id": "4d76eba0",
   "metadata": {},
   "source": [
    "Multiplication"
   ]
  },
  {
   "cell_type": "code",
   "execution_count": 4,
   "id": "f6b199d2",
   "metadata": {},
   "outputs": [],
   "source": [
    "y ** z"
   ]
  },
  {
   "cell_type": "markdown",
   "id": "12320095",
   "metadata": {},
   "source": [
    "Division"
   ]
  },
  {
   "cell_type": "code",
   "execution_count": 5,
   "id": "cec23f90",
   "metadata": {},
   "outputs": [],
   "source": [
    "z / y"
   ]
  },
  {
   "cell_type": "markdown",
   "id": "2c157705",
   "metadata": {},
   "source": [
    "Floor Division"
   ]
  },
  {
   "cell_type": "code",
   "execution_count": 6,
   "id": "ed0035ec",
   "metadata": {},
   "outputs": [],
   "source": [
    "z // y"
   ]
  },
  {
   "cell_type": "markdown",
   "id": "b0b0738d",
   "metadata": {},
   "source": [
    "Remainder"
   ]
  },
  {
   "cell_type": "code",
   "execution_count": 7,
   "id": "7bed0e41",
   "metadata": {},
   "outputs": [],
   "source": [
    "z // y"
   ]
  },
  {
   "cell_type": "markdown",
   "id": "0dcef774",
   "metadata": {},
   "source": [
    "Power"
   ]
  },
  {
   "cell_type": "code",
   "execution_count": 8,
   "id": "a8cf1f24",
   "metadata": {},
   "outputs": [],
   "source": [
    "z ** y"
   ]
  },
  {
   "cell_type": "markdown",
   "id": "7ed2dfaa",
   "metadata": {},
   "source": [
    "### Strings"
   ]
  },
  {
   "cell_type": "code",
   "execution_count": 9,
   "id": "05236a12",
   "metadata": {},
   "outputs": [],
   "source": [
    "string_a = \"Hello, \"\n",
    "string_b = \"World!\""
   ]
  },
  {
   "cell_type": "code",
   "execution_count": 10,
   "id": "6c062ad3",
   "metadata": {},
   "outputs": [],
   "source": [
    "c = string_a + string_b\n",
    "print(c)"
   ]
  },
  {
   "cell_type": "code",
   "execution_count": 11,
   "id": "17d29964",
   "metadata": {},
   "outputs": [],
   "source": [
    "print(3 * string_a)"
   ]
  },
  {
   "cell_type": "code",
   "execution_count": 12,
   "id": "e201e8e9",
   "metadata": {},
   "outputs": [],
   "source": [
    "print(string_a + \"Python\")"
   ]
  },
  {
   "cell_type": "markdown",
   "id": "e2445e5e",
   "metadata": {},
   "source": [
    "##### Indexing"
   ]
  },
  {
   "cell_type": "code",
   "execution_count": 13,
   "id": "09bebbe3",
   "metadata": {},
   "outputs": [],
   "source": [
    "print(c[0])\n",
    "print(c[2])\n",
    "print(c[7])"
   ]
  },
  {
   "cell_type": "code",
   "execution_count": 14,
   "id": "d8826c3d",
   "metadata": {},
   "outputs": [],
   "source": [
    "print(c[-1])\n",
    "print(c[-2])"
   ]
  },
  {
   "cell_type": "markdown",
   "id": "5ad65f5a",
   "metadata": {},
   "source": [
    "#### Slicing"
   ]
  },
  {
   "cell_type": "code",
   "execution_count": 15,
   "id": "2b66979f",
   "metadata": {},
   "outputs": [],
   "source": [
    "print(c[0:5])"
   ]
  },
  {
   "cell_type": "code",
   "execution_count": 16,
   "id": "52afb323",
   "metadata": {},
   "outputs": [],
   "source": [
    "print(c[7:])"
   ]
  },
  {
   "cell_type": "code",
   "execution_count": 17,
   "id": "5c0f8a91",
   "metadata": {},
   "outputs": [],
   "source": [
    "print(c[-3:])"
   ]
  },
  {
   "cell_type": "code",
   "execution_count": 18,
   "id": "600a1c8c",
   "metadata": {},
   "outputs": [],
   "source": [
    "print(len(c))"
   ]
  },
  {
   "cell_type": "code",
   "execution_count": 19,
   "id": "c3404c06",
   "metadata": {},
   "outputs": [],
   "source": [
    "print(c[0:len(c)-1:2])"
   ]
  },
  {
   "cell_type": "code",
   "execution_count": 20,
   "id": "4e73cc48",
   "metadata": {},
   "outputs": [],
   "source": [
    "print(c[::-1])"
   ]
  },
  {
   "cell_type": "code",
   "execution_count": 21,
   "id": "35b4bbf0",
   "metadata": {},
   "outputs": [],
   "source": [
    "pow(2, 3)"
   ]
  },
  {
   "cell_type": "markdown",
   "id": "7120887f",
   "metadata": {},
   "source": [
    "### Comparison Operators"
   ]
  },
  {
   "cell_type": "code",
   "execution_count": 22,
   "id": "a18f0c13",
   "metadata": {},
   "outputs": [],
   "source": [
    "print(5==5)"
   ]
  },
  {
   "cell_type": "code",
   "execution_count": 23,
   "id": "b9003c0a",
   "metadata": {},
   "outputs": [],
   "source": [
    "print(5 < 2)"
   ]
  },
  {
   "cell_type": "code",
   "execution_count": 24,
   "id": "b664310c",
   "metadata": {},
   "outputs": [],
   "source": [
    "print(5 > 3)"
   ]
  },
  {
   "cell_type": "code",
   "execution_count": 25,
   "id": "fa5597f6",
   "metadata": {},
   "outputs": [],
   "source": [
    "print(5 >= 5)"
   ]
  },
  {
   "cell_type": "code",
   "execution_count": 26,
   "id": "8b6b1092",
   "metadata": {},
   "outputs": [],
   "source": [
    "print(5 <= 3)"
   ]
  },
  {
   "cell_type": "code",
   "execution_count": 27,
   "id": "3bb617de",
   "metadata": {},
   "outputs": [],
   "source": [
    "print(1 != 5)"
   ]
  },
  {
   "cell_type": "code",
   "execution_count": 28,
   "id": "c4b7b203",
   "metadata": {},
   "outputs": [],
   "source": [
    "# Binary Floating Point Notation can't represent 0.1 i.e small numbers\n",
    "print(0.1 + 0.2 == 0.3) "
   ]
  },
  {
   "cell_type": "code",
   "execution_count": 29,
   "id": "4ced2d5f",
   "metadata": {},
   "outputs": [],
   "source": [
    "print(0.2 + 0.3 == 0.5)"
   ]
  },
  {
   "cell_type": "code",
   "execution_count": 30,
   "id": "1a86d530",
   "metadata": {},
   "outputs": [],
   "source": [
    "z is [5, \"list\"]"
   ]
  },
  {
   "cell_type": "code",
   "execution_count": 31,
   "id": "0d5d80ec",
   "metadata": {},
   "outputs": [],
   "source": [
    "z is not [5, \"list\"]"
   ]
  },
  {
   "cell_type": "code",
   "execution_count": 32,
   "id": "a49eeef4",
   "metadata": {},
   "outputs": [],
   "source": [
    "z in [5, \"list\"]"
   ]
  },
  {
   "cell_type": "markdown",
   "id": "cc8d817b",
   "metadata": {},
   "source": [
    "### Bitwise Operators\n"
   ]
  },
  {
   "cell_type": "code",
   "execution_count": 33,
   "id": "397ae32f",
   "metadata": {},
   "outputs": [],
   "source": [
    "print(6 & 3)    # And Operator\n",
    "print(6 | 3)    # Or Operator\n",
    "print(6 ^ 3)    # XOR Operator\n",
    "print(~6)       # Not Operator\n",
    "print(6  << 2)  # Left Shift\n",
    "print(6 >> 2)   # Right Shift"
   ]
  },
  {
   "cell_type": "markdown",
   "id": "2b326e21",
   "metadata": {},
   "source": [
    "### Advance Mathematics"
   ]
  },
  {
   "cell_type": "code",
   "execution_count": 34,
   "id": "af01724f",
   "metadata": {},
   "outputs": [],
   "source": [
    "import math"
   ]
  },
  {
   "cell_type": "code",
   "execution_count": 35,
   "id": "647f4efb",
   "metadata": {},
   "outputs": [],
   "source": [
    "math.ceil(0.7)"
   ]
  },
  {
   "cell_type": "code",
   "execution_count": 36,
   "id": "f8882572",
   "metadata": {},
   "outputs": [],
   "source": [
    "math.floor(5.9)"
   ]
  },
  {
   "cell_type": "code",
   "execution_count": 37,
   "id": "2ef5a2d5",
   "metadata": {},
   "outputs": [],
   "source": [
    "print(abs(-9))"
   ]
  },
  {
   "cell_type": "code",
   "execution_count": 38,
   "id": "d3a0b0d8",
   "metadata": {},
   "outputs": [],
   "source": [
    "print(abs(3+4j))"
   ]
  },
  {
   "cell_type": "code",
   "execution_count": 39,
   "id": "3254f609",
   "metadata": {},
   "outputs": [],
   "source": [
    "print(math.pi)\n",
    "print(math.e)\n",
    "print(math.tau)\n",
    "print(math.inf)"
   ]
  },
  {
   "cell_type": "code",
   "execution_count": 40,
   "id": "6c7b9db1",
   "metadata": {},
   "outputs": [],
   "source": [
    "print(math.factorial(4))"
   ]
  },
  {
   "cell_type": "code",
   "execution_count": 41,
   "id": "2cc5da36",
   "metadata": {},
   "outputs": [],
   "source": [
    "math.pow(25, 1/2)"
   ]
  },
  {
   "cell_type": "code",
   "execution_count": 42,
   "id": "4d4d96e0",
   "metadata": {},
   "outputs": [],
   "source": [
    "print(math.log(6))"
   ]
  },
  {
   "cell_type": "code",
   "execution_count": 43,
   "id": "2a818dca",
   "metadata": {},
   "outputs": [],
   "source": [
    "math.log2(16)"
   ]
  },
  {
   "cell_type": "code",
   "execution_count": 44,
   "id": "8b469b50",
   "metadata": {},
   "outputs": [],
   "source": [
    "math.log(16, 2)"
   ]
  },
  {
   "cell_type": "markdown",
   "id": "0da36de6",
   "metadata": {},
   "source": [
    "### Print Function"
   ]
  },
  {
   "cell_type": "code",
   "execution_count": 45,
   "id": "f67e2f26",
   "metadata": {},
   "outputs": [],
   "source": [
    "print(\"This is a string\")"
   ]
  },
  {
   "cell_type": "code",
   "execution_count": 46,
   "id": "b83838da",
   "metadata": {},
   "outputs": [],
   "source": [
    "print(\"This is\", \"a string\")"
   ]
  },
  {
   "cell_type": "code",
   "execution_count": 47,
   "id": "92360951",
   "metadata": {},
   "outputs": [],
   "source": [
    "print(\"This is\" + \"a string\")"
   ]
  },
  {
   "cell_type": "code",
   "execution_count": 48,
   "id": "5669b31b",
   "metadata": {},
   "outputs": [],
   "source": [
    "print(\"This is\", \"a string\", sep=\"&\")\n",
    "print(\"This is\", \"a string\", sep=\"       \")\n",
    "print(\"This is\", \"a string\", sep=\"\")\n",
    "print(\"This is\", \"a string\", sep=None)"
   ]
  },
  {
   "cell_type": "code",
   "execution_count": 49,
   "id": "5e7df3ac",
   "metadata": {},
   "outputs": [],
   "source": [
    "print(\"this\", end='$')\n",
    "print(\"is\", end=\"\\n\")\n",
    "print(\"not\", end=\"          \")\n",
    "print(\"a string\")"
   ]
  },
  {
   "cell_type": "code",
   "execution_count": 50,
   "id": "d8c65740",
   "metadata": {},
   "outputs": [],
   "source": [
    "print(\"Integer\",5,\"Float\",0.3, sep=\" \")"
   ]
  },
  {
   "cell_type": "markdown",
   "id": "3e9f47b1",
   "metadata": {},
   "source": [
    "#### Print Formating"
   ]
  },
  {
   "cell_type": "code",
   "execution_count": 51,
   "id": "b982f474",
   "metadata": {},
   "outputs": [],
   "source": [
    "print(f\"Integer {y}, Float {0.5}\")"
   ]
  },
  {
   "cell_type": "code",
   "execution_count": 52,
   "id": "2b1d9ba3",
   "metadata": {},
   "outputs": [],
   "source": [
    "print(f\"Float {0.5555:.2f}\")"
   ]
  }
 ],
 "metadata": {
  "kernelspec": {
   "display_name": "Python 3 (ipykernel)",
   "language": "python",
   "name": "python3"
  },
  "language_info": {
   "codemirror_mode": {
    "name": "ipython",
    "version": 3
   },
   "file_extension": ".py",
   "mimetype": "text/x-python",
   "name": "python",
   "nbconvert_exporter": "python",
   "pygments_lexer": "ipython3",
   "version": "3.11.4"
  }
 },
 "nbformat": 4,
 "nbformat_minor": 5
}

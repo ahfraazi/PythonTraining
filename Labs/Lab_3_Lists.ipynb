{
 "cells": [
  {
   "cell_type": "code",
   "execution_count": 1,
   "id": "5b64a200",
   "metadata": {},
   "outputs": [],
   "source": [
    "a = [1, \"Apple\", \"Blue\", 9.9, True] # Can contain multiple datatype\n",
    "b = [\"Red\", \"Blue\", \"Green\", \"Black\"]"
   ]
  },
  {
   "cell_type": "code",
   "execution_count": 2,
   "id": "d24593fe",
   "metadata": {},
   "outputs": [
    {
     "name": "stdout",
     "output_type": "stream",
     "text": [
      "[1, 'Apple', 'Blue', 9.9, True]\n",
      "['Red', 'Blue', 'Green', 'Black']\n"
     ]
    }
   ],
   "source": [
    "print(a)\n",
    "print(b)"
   ]
  },
  {
   "cell_type": "code",
   "execution_count": 3,
   "id": "9243233a",
   "metadata": {},
   "outputs": [
    {
     "name": "stdout",
     "output_type": "stream",
     "text": [
      "['apple', 'tomato', 5]\n"
     ]
    }
   ],
   "source": [
    "c = list((\"apple\", \"tomato\", 5))\n",
    "print(c)"
   ]
  },
  {
   "cell_type": "code",
   "execution_count": 4,
   "id": "ec4bb68b",
   "metadata": {},
   "outputs": [
    {
     "name": "stdout",
     "output_type": "stream",
     "text": [
      "<class 'list'>\n"
     ]
    }
   ],
   "source": [
    "print(type(c))"
   ]
  },
  {
   "cell_type": "code",
   "execution_count": 5,
   "id": "b687cef3",
   "metadata": {
    "scrolled": true
   },
   "outputs": [
    {
     "name": "stdout",
     "output_type": "stream",
     "text": [
      "5 4 3\n"
     ]
    }
   ],
   "source": [
    "print(len(a), len(b), len(c))"
   ]
  },
  {
   "cell_type": "code",
   "execution_count": 6,
   "id": "25147b25",
   "metadata": {},
   "outputs": [
    {
     "name": "stdout",
     "output_type": "stream",
     "text": [
      "3\n",
      "['a', 'b', ['apple', 'tomato', 5]]\n"
     ]
    }
   ],
   "source": [
    "d = [\"a\", \"b\", c] # List in list\n",
    "print(len(d))\n",
    "print(d)"
   ]
  },
  {
   "cell_type": "code",
   "execution_count": 7,
   "id": "35b6e4fa",
   "metadata": {},
   "outputs": [
    {
     "data": {
      "text/plain": [
       "False"
      ]
     },
     "execution_count": 7,
     "metadata": {},
     "output_type": "execute_result"
    }
   ],
   "source": [
    "[1, 2, 3, 4, 5] == [5, 4, 3, 2, 1] # Lists are Ordered"
   ]
  },
  {
   "cell_type": "code",
   "execution_count": 8,
   "id": "fe2755d0",
   "metadata": {},
   "outputs": [
    {
     "name": "stdout",
     "output_type": "stream",
     "text": [
      "1\n"
     ]
    }
   ],
   "source": [
    "# Indexing same as strings\n",
    "print(a[0])"
   ]
  },
  {
   "cell_type": "code",
   "execution_count": 9,
   "id": "f12fbbac",
   "metadata": {},
   "outputs": [
    {
     "name": "stdout",
     "output_type": "stream",
     "text": [
      "True\n"
     ]
    }
   ],
   "source": [
    "print(a[-1])"
   ]
  },
  {
   "cell_type": "code",
   "execution_count": 10,
   "id": "aa1d152f",
   "metadata": {},
   "outputs": [
    {
     "name": "stdout",
     "output_type": "stream",
     "text": [
      "['Apple', 'Blue']\n"
     ]
    }
   ],
   "source": [
    "#       Start:Stop\n",
    "print(a[1:3])"
   ]
  },
  {
   "cell_type": "code",
   "execution_count": 11,
   "id": "04a41892",
   "metadata": {},
   "outputs": [
    {
     "name": "stdout",
     "output_type": "stream",
     "text": [
      "[1, 'Blue', True]\n"
     ]
    }
   ],
   "source": [
    "# Start:Stop:Step\n",
    "print(a[::2])"
   ]
  },
  {
   "cell_type": "code",
   "execution_count": 12,
   "id": "365fe582",
   "metadata": {},
   "outputs": [
    {
     "name": "stdout",
     "output_type": "stream",
     "text": [
      "[True, 9.9, 'Blue', 'Apple', 1]\n"
     ]
    }
   ],
   "source": [
    "print(a[::-1])"
   ]
  },
  {
   "cell_type": "code",
   "execution_count": 13,
   "id": "2ea5dc06",
   "metadata": {},
   "outputs": [
    {
     "name": "stdout",
     "output_type": "stream",
     "text": [
      "[1, 'Apple', 'Blue', 9.9, True]\n"
     ]
    }
   ],
   "source": [
    "print(a[:])"
   ]
  },
  {
   "cell_type": "code",
   "execution_count": 14,
   "id": "0722db60",
   "metadata": {},
   "outputs": [
    {
     "name": "stdout",
     "output_type": "stream",
     "text": [
      "tomato\n"
     ]
    }
   ],
   "source": [
    "# Nested Indexing\n",
    "print(d[2][1])"
   ]
  },
  {
   "cell_type": "code",
   "execution_count": 15,
   "id": "ec686d68",
   "metadata": {},
   "outputs": [
    {
     "name": "stdout",
     "output_type": "stream",
     "text": [
      "[5, 'tomato', 'apple']\n"
     ]
    }
   ],
   "source": [
    "print(d[2][::-1])"
   ]
  },
  {
   "cell_type": "code",
   "execution_count": 16,
   "id": "78c2413a",
   "metadata": {},
   "outputs": [
    {
     "data": {
      "text/plain": [
       "True"
      ]
     },
     "execution_count": 16,
     "metadata": {},
     "output_type": "execute_result"
    }
   ],
   "source": [
    "\"Red\" in b"
   ]
  },
  {
   "cell_type": "code",
   "execution_count": 17,
   "id": "8e765a58",
   "metadata": {},
   "outputs": [
    {
     "data": {
      "text/plain": [
       "False"
      ]
     },
     "execution_count": 17,
     "metadata": {},
     "output_type": "execute_result"
    }
   ],
   "source": [
    "\"Red\" in a"
   ]
  },
  {
   "cell_type": "code",
   "execution_count": 18,
   "id": "efde3e33",
   "metadata": {},
   "outputs": [
    {
     "name": "stdout",
     "output_type": "stream",
     "text": [
      "Black\n",
      "Red\n"
     ]
    }
   ],
   "source": [
    "print(min(b)) # Aplhabatical Order\n",
    "print(max(b))"
   ]
  },
  {
   "cell_type": "code",
   "execution_count": 19,
   "id": "5da4c5ec",
   "metadata": {},
   "outputs": [
    {
     "name": "stdout",
     "output_type": "stream",
     "text": [
      "5\n"
     ]
    }
   ],
   "source": [
    "l = ['a', ['bb', ['ccc', 'ddd'], 'ee', 'ff'], 'g', ['hh', 'ii'], 'j']\n",
    "print(len(l))"
   ]
  },
  {
   "cell_type": "code",
   "execution_count": 20,
   "id": "7fa9a8cb",
   "metadata": {},
   "outputs": [
    {
     "name": "stdout",
     "output_type": "stream",
     "text": [
      "False\n",
      "False\n",
      "True\n"
     ]
    }
   ],
   "source": [
    "print('ddd' in l)\n",
    "print('ddd' in l[1])\n",
    "print('ddd' in l[1][1])"
   ]
  },
  {
   "cell_type": "markdown",
   "id": "9a99c536",
   "metadata": {},
   "source": [
    "### Chaning List Values"
   ]
  },
  {
   "cell_type": "code",
   "execution_count": 21,
   "id": "80a81d0a",
   "metadata": {},
   "outputs": [
    {
     "name": "stdout",
     "output_type": "stream",
     "text": [
      "[1, 'Apple', 'Blue', 9.9, True]\n"
     ]
    }
   ],
   "source": [
    "print(a)"
   ]
  },
  {
   "cell_type": "code",
   "execution_count": 22,
   "id": "a07096a7",
   "metadata": {},
   "outputs": [
    {
     "name": "stdout",
     "output_type": "stream",
     "text": [
      "[1, 'Mango', 'Blue', 9.9, True]\n"
     ]
    }
   ],
   "source": [
    "a[1] = \"Mango\"\n",
    "print(a)"
   ]
  },
  {
   "cell_type": "code",
   "execution_count": 23,
   "id": "e0dc1df0",
   "metadata": {},
   "outputs": [],
   "source": [
    "a[2:] = [\"Red\", 5.9, False, \"1\"]"
   ]
  },
  {
   "cell_type": "code",
   "execution_count": 24,
   "id": "af2ab99d",
   "metadata": {},
   "outputs": [
    {
     "name": "stdout",
     "output_type": "stream",
     "text": [
      "[1, 'Mango', 'Red', 5.9, False, '1']\n"
     ]
    }
   ],
   "source": [
    "print(a)"
   ]
  },
  {
   "cell_type": "markdown",
   "id": "bf527e9b",
   "metadata": {},
   "source": [
    "#### Adding Items"
   ]
  },
  {
   "cell_type": "code",
   "execution_count": 25,
   "id": "f2fe1e58",
   "metadata": {},
   "outputs": [
    {
     "name": "stdout",
     "output_type": "stream",
     "text": [
      "[1, 'Mango', 'Red', 5.9, False, '1', 'Red', 'Blue', 'Green', 'Black']\n"
     ]
    }
   ],
   "source": [
    "print(a + b)"
   ]
  },
  {
   "cell_type": "code",
   "execution_count": 26,
   "id": "541a2e87",
   "metadata": {},
   "outputs": [
    {
     "name": "stdout",
     "output_type": "stream",
     "text": [
      "[1, 'Mango', 'Red', 5.9, False, '1', '1000']\n"
     ]
    }
   ],
   "source": [
    "print(a + [\"1000\"])"
   ]
  },
  {
   "cell_type": "code",
   "execution_count": 27,
   "id": "dadf1681",
   "metadata": {},
   "outputs": [
    {
     "name": "stdout",
     "output_type": "stream",
     "text": [
      "[1, 'Mango', 'Red', 5.9, False, '1', '1', '0', '0', '0']\n"
     ]
    }
   ],
   "source": [
    "a += \"1000\"\n",
    "print(a)"
   ]
  },
  {
   "cell_type": "code",
   "execution_count": 28,
   "id": "6ebe1676",
   "metadata": {},
   "outputs": [
    {
     "name": "stdout",
     "output_type": "stream",
     "text": [
      "[1, 'Mango', 'Red', 5.9, False, '1', '1', '0', '0', '0', 'White']\n"
     ]
    }
   ],
   "source": [
    "a.append(\"White\")  # Method to Add Item at end of list\n",
    "print(a)"
   ]
  },
  {
   "cell_type": "code",
   "execution_count": 29,
   "id": "8e8af5a9",
   "metadata": {},
   "outputs": [
    {
     "name": "stdout",
     "output_type": "stream",
     "text": [
      "[(1+2j), 1, 'Mango', 'Red', 5.9, False, '1', '1', '0', '0', '0', 'White']\n"
     ]
    }
   ],
   "source": [
    "# Index, Item\n",
    "a.insert(0, 1+2j)\n",
    "print(a)"
   ]
  },
  {
   "cell_type": "code",
   "execution_count": 30,
   "id": "87161ebf",
   "metadata": {},
   "outputs": [
    {
     "name": "stdout",
     "output_type": "stream",
     "text": [
      "[(1+2j), 1, 'Mango', 'Red', 5.9, False, '1', '1', '0', '0', '0', 'White', 'apple', 'tomato', 5]\n"
     ]
    }
   ],
   "source": [
    "a.extend(c)\n",
    "print(a)"
   ]
  },
  {
   "cell_type": "markdown",
   "id": "1015be54",
   "metadata": {},
   "source": [
    "#### Deleting Item"
   ]
  },
  {
   "cell_type": "code",
   "execution_count": 31,
   "id": "fd705ccb",
   "metadata": {},
   "outputs": [
    {
     "name": "stdout",
     "output_type": "stream",
     "text": [
      "[(1+2j), 1, 'Mango', 'Red', 5.9, False, '1', '1', '0', '0', '0', 'White', 'apple', 'tomato']\n"
     ]
    }
   ],
   "source": [
    "del a[-1]\n",
    "print(a)"
   ]
  },
  {
   "cell_type": "code",
   "execution_count": 32,
   "id": "1e3ef2b5",
   "metadata": {},
   "outputs": [
    {
     "name": "stdout",
     "output_type": "stream",
     "text": [
      "[(1+2j), 1, 'Mango', 'Red', 5.9, False, '1', '1', '0', '0', '0', 'White', 'apple', 'tomato']\n"
     ]
    }
   ],
   "source": [
    "print(a)"
   ]
  },
  {
   "cell_type": "code",
   "execution_count": 33,
   "id": "85d12ccd",
   "metadata": {},
   "outputs": [
    {
     "name": "stdout",
     "output_type": "stream",
     "text": [
      "[(1+2j), 1, 'Mango', 5.9, False, '1', '1', '0', '0', '0', 'White', 'apple', 'tomato']\n"
     ]
    }
   ],
   "source": [
    "a.remove('Red')\n",
    "print(a)"
   ]
  },
  {
   "cell_type": "code",
   "execution_count": 34,
   "id": "690b56c2",
   "metadata": {},
   "outputs": [
    {
     "name": "stdout",
     "output_type": "stream",
     "text": [
      "[(1+2j), 1, 'Mango', 5.9, False, '1', '1', '0', '0', 'White', 'apple', 'tomato']\n"
     ]
    }
   ],
   "source": [
    "a.remove('0')\n",
    "print(a)"
   ]
  },
  {
   "cell_type": "code",
   "execution_count": 35,
   "id": "3569ac42",
   "metadata": {},
   "outputs": [
    {
     "name": "stdout",
     "output_type": "stream",
     "text": [
      "[(1+2j), 1, 'Mango', 5.9, False, '1', '1', '0', '0', 'White', 'apple']\n"
     ]
    }
   ],
   "source": [
    "a.pop()\n",
    "print(a)"
   ]
  },
  {
   "cell_type": "code",
   "execution_count": 36,
   "id": "208d03d4",
   "metadata": {},
   "outputs": [
    {
     "name": "stdout",
     "output_type": "stream",
     "text": [
      "1\n",
      "[(1+2j), 'Mango', 5.9, False, '1', '1', '0', '0', 'White', 'apple']\n"
     ]
    }
   ],
   "source": [
    "print(a.pop(1))\n",
    "print(a)\n"
   ]
  },
  {
   "cell_type": "code",
   "execution_count": 37,
   "id": "c6078b6f",
   "metadata": {},
   "outputs": [
    {
     "name": "stdout",
     "output_type": "stream",
     "text": [
      "[]\n"
     ]
    }
   ],
   "source": [
    "a.clear()\n",
    "print(a)"
   ]
  },
  {
   "cell_type": "markdown",
   "id": "6612d92f",
   "metadata": {},
   "source": [
    "#### Sort List Alphanumerically"
   ]
  },
  {
   "cell_type": "code",
   "execution_count": 38,
   "id": "0d0cc6c0",
   "metadata": {},
   "outputs": [
    {
     "name": "stdout",
     "output_type": "stream",
     "text": [
      "['apple', 'tomato', 5]\n"
     ]
    }
   ],
   "source": [
    "print(c)"
   ]
  },
  {
   "cell_type": "code",
   "execution_count": 39,
   "id": "15f62f72",
   "metadata": {},
   "outputs": [
    {
     "name": "stdout",
     "output_type": "stream",
     "text": [
      "['Black', 'Blue', 'Green', 'Red']\n"
     ]
    }
   ],
   "source": [
    "b.sort() #Works only for same type of elements\n",
    "print(b)"
   ]
  },
  {
   "cell_type": "code",
   "execution_count": 40,
   "id": "ece1816f",
   "metadata": {},
   "outputs": [
    {
     "name": "stdout",
     "output_type": "stream",
     "text": [
      "[1, 2, 9, 20, 100]\n",
      "[100, 20, 9, 2, 1]\n"
     ]
    }
   ],
   "source": [
    "a = [1, 2, 9, 100, 20]\n",
    "a.sort()\n",
    "print(a)\n",
    "a.sort(reverse=True)\n",
    "print(a)"
   ]
  }
 ],
 "metadata": {
  "kernelspec": {
   "display_name": "Python 3 (ipykernel)",
   "language": "python",
   "name": "python3"
  },
  "language_info": {
   "codemirror_mode": {
    "name": "ipython",
    "version": 3
   },
   "file_extension": ".py",
   "mimetype": "text/x-python",
   "name": "python",
   "nbconvert_exporter": "python",
   "pygments_lexer": "ipython3",
   "version": "3.11.4"
  }
 },
 "nbformat": 4,
 "nbformat_minor": 5
}

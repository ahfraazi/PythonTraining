{
 "cells": [
  {
   "cell_type": "markdown",
   "id": "59c6fe8e",
   "metadata": {},
   "source": [
    "## NumPy"
   ]
  },
  {
   "cell_type": "code",
   "execution_count": 1,
   "id": "8de04581",
   "metadata": {},
   "outputs": [
    {
     "name": "stdout",
     "output_type": "stream",
     "text": [
      "[2 4 6 8]\n"
     ]
    }
   ],
   "source": [
    "import numpy as np\n",
    "\n",
    "# create a list named list1\n",
    "list1 = [2, 4, 6, 8]\n",
    "\n",
    "# create numpy array using list1\n",
    "array1 = np.array(list1)\n",
    "\n",
    "print(array1)\n",
    "\n",
    "# Output: [2 4 6 8]"
   ]
  },
  {
   "cell_type": "code",
   "execution_count": 2,
   "id": "a57d73f0",
   "metadata": {},
   "outputs": [
    {
     "name": "stdout",
     "output_type": "stream",
     "text": [
      "[2 4 6 8]\n"
     ]
    }
   ],
   "source": [
    "import numpy as np\n",
    "\n",
    "# create numpy array using a list\n",
    "array1 = np.array([2, 4, 6, 8])\n",
    "print(array1)\n",
    "\n",
    "# Output: [2  4  6 8]"
   ]
  },
  {
   "cell_type": "code",
   "execution_count": 3,
   "id": "c17ddea7",
   "metadata": {},
   "outputs": [
    {
     "name": "stdout",
     "output_type": "stream",
     "text": [
      "[0. 0. 0. 0.]\n"
     ]
    }
   ],
   "source": [
    "import numpy as np\n",
    "\n",
    "# create an array with 4 elements filled with zeros\n",
    "array1 = np.zeros(4)\n",
    "\n",
    "print(array1)\n",
    "\n",
    "# Output: [0. 0. 0. 0.]"
   ]
  },
  {
   "cell_type": "code",
   "execution_count": 4,
   "id": "27d29758",
   "metadata": {},
   "outputs": [
    {
     "data": {
      "text/plain": [
       "(4,)"
      ]
     },
     "execution_count": 4,
     "metadata": {},
     "output_type": "execute_result"
    }
   ],
   "source": [
    "array1.shape"
   ]
  },
  {
   "cell_type": "code",
   "execution_count": 5,
   "id": "a3829429",
   "metadata": {},
   "outputs": [
    {
     "name": "stdout",
     "output_type": "stream",
     "text": [
      "[1. 1. 1. 1.]\n"
     ]
    }
   ],
   "source": [
    "import numpy as np\n",
    "\n",
    "# create an array with 4 elements filled with zeros\n",
    "array1 = np.ones(4)\n",
    "\n",
    "print(array1)\n",
    "\n",
    "# Output: [1. 1. 1. 1.]"
   ]
  },
  {
   "cell_type": "code",
   "execution_count": 6,
   "id": "40939cbb",
   "metadata": {},
   "outputs": [
    {
     "name": "stdout",
     "output_type": "stream",
     "text": [
      "Using np.arange(5): [0 1 2 3 4]\n",
      "Using np.arange(1, 9, 2): [1 3 5 7]\n"
     ]
    }
   ],
   "source": [
    "import numpy as np\n",
    "\n",
    "# create an array with values from 0 to 4\n",
    "array1 = np.arange(5)\n",
    "\n",
    "print(\"Using np.arange(5):\", array1)\n",
    "\n",
    "# create an array with values from 1 to 8 with a step of 2\n",
    "array2 = np.arange(1, 9, 2)\n",
    "\n",
    "print(\"Using np.arange(1, 9, 2):\",array2)"
   ]
  },
  {
   "cell_type": "code",
   "execution_count": 7,
   "id": "6d9603af",
   "metadata": {},
   "outputs": [
    {
     "name": "stdout",
     "output_type": "stream",
     "text": [
      "[0.05598933 0.11430695 0.93641137 0.9484885  0.77916942]\n"
     ]
    }
   ],
   "source": [
    "import numpy as np\n",
    "\n",
    "# generate an array of 5 random numbers\n",
    "array1 = np.random.rand(5)\n",
    "\n",
    "print(array1)"
   ]
  },
  {
   "cell_type": "code",
   "execution_count": 8,
   "id": "4a7eceaf",
   "metadata": {},
   "outputs": [
    {
     "name": "stdout",
     "output_type": "stream",
     "text": [
      "[1. 1. 1. 1.]\n"
     ]
    }
   ],
   "source": [
    "import numpy as np\n",
    "\n",
    "# create an empty array of length 4\n",
    "array1 = np.empty(4)\n",
    "\n",
    "print(array1)"
   ]
  },
  {
   "cell_type": "code",
   "execution_count": 10,
   "id": "685f0889",
   "metadata": {},
   "outputs": [
    {
     "name": "stdout",
     "output_type": "stream",
     "text": [
      "[[1 2 3 4]\n",
      " [5 6 7 8]]\n"
     ]
    }
   ],
   "source": [
    "import numpy as np\n",
    "\n",
    "# create a 2D array with 2 rows and 4 columns\n",
    "array1 = np.array([[1, 2, 3, 4],\n",
    "                  [5, 6, 7, 8]])\n",
    "\n",
    "print(array1)"
   ]
  },
  {
   "cell_type": "code",
   "execution_count": 9,
   "id": "38d863de",
   "metadata": {},
   "outputs": [
    {
     "name": "stdout",
     "output_type": "stream",
     "text": [
      "[[[ 1  2  3  4]\n",
      "  [ 5  6  7  8]\n",
      "  [ 9 10 11 12]]\n",
      "\n",
      " [[13 14 15 16]\n",
      "  [17 18 19 20]\n",
      "  [21 22 23 24]]]\n"
     ]
    }
   ],
   "source": [
    "import numpy as np\n",
    "\n",
    "# create a 3D array with 2 \"slices\", each of 3 rows and 4 columns\n",
    "array1 = np.array([[[1, 2, 3, 4],\n",
    "                [5, 6, 7, 8], \n",
    "                [9, 10, 11, 12]],\n",
    "                     \n",
    "                [[13, 14, 15, 16], \n",
    "                 [17, 18, 19, 20], \n",
    "                 [21, 22, 23, 24]]])\n",
    "\n",
    "print(array1)"
   ]
  },
  {
   "cell_type": "code",
   "execution_count": 11,
   "id": "f48d1499",
   "metadata": {},
   "outputs": [
    {
     "name": "stdout",
     "output_type": "stream",
     "text": [
      "2-D Array: \n",
      "[[0. 0. 0.]\n",
      " [0. 0. 0.]]\n",
      "\n",
      "3-D Array: \n",
      "[[[0. 0. 0. 0.]\n",
      "  [0. 0. 0. 0.]\n",
      "  [0. 0. 0. 0.]]\n",
      "\n",
      " [[0. 0. 0. 0.]\n",
      "  [0. 0. 0. 0.]\n",
      "  [0. 0. 0. 0.]]]\n"
     ]
    }
   ],
   "source": [
    "import numpy as np\n",
    "\n",
    "# create 2D array with 2 rows and 3 columns filled with zeros\n",
    "array1 = np.zeros((2, 3))\n",
    "\n",
    "print(\"2-D Array: \")\n",
    "print(array1)\n",
    "\n",
    "# create 3D array with dimensions 2x3x4 filled with zeros\n",
    "array2 = np.zeros((2, 3, 4))\n",
    "\n",
    "print(\"\\n3-D Array: \")\n",
    "print(array2)"
   ]
  },
  {
   "cell_type": "code",
   "execution_count": 14,
   "id": "13618a42",
   "metadata": {},
   "outputs": [
    {
     "name": "stdout",
     "output_type": "stream",
     "text": [
      "1D Array:\n",
      "[0.99685854 0.62057658 0.57114979 0.76299042 0.23305821 0.33142401\n",
      " 0.65091006 0.50896806 0.68590888 0.72640812 0.63908701 0.81926511]\n",
      "\n",
      "2D Array:\n",
      "[[0.99685854 0.62057658 0.57114979 0.76299042]\n",
      " [0.23305821 0.33142401 0.65091006 0.50896806]\n",
      " [0.68590888 0.72640812 0.63908701 0.81926511]]\n"
     ]
    }
   ],
   "source": [
    "import numpy as np\n",
    "\n",
    "# Create a 1D array with values from 0 to 11 (exclusive)\n",
    "arr_1d = np.random.rand(12)\n",
    "print(\"1D Array:\")\n",
    "print(arr_1d)\n",
    "\n",
    "# Reshape the 1D array into a 3x4 2D array (3 rows and 4 columns)\n",
    "arr_2d = arr_1d.reshape(3, 4)\n",
    "print(\"\\n2D Array:\")\n",
    "print(arr_2d)"
   ]
  },
  {
   "cell_type": "code",
   "execution_count": 16,
   "id": "91f68b8e",
   "metadata": {},
   "outputs": [
    {
     "name": "stdout",
     "output_type": "stream",
     "text": [
      "2-D Array: \n",
      "[[0.36845638 0.65742638]\n",
      " [0.0043763  0.01930341]]\n",
      "\n",
      "3-D Array: \n",
      "[[[0.505976   0.32650218]\n",
      "  [0.67865066 0.37200897]]\n",
      "\n",
      " [[0.59985032 0.13170972]\n",
      "  [0.9390874  0.55254989]]]\n"
     ]
    }
   ],
   "source": [
    "import numpy as np\n",
    "\n",
    "# create a 2D array of 2 rows and 2 columns of random numbers\n",
    "array1 = np.random.rand(2, 2)\n",
    "\n",
    "print(\"2-D Array: \")\n",
    "print(array1)\n",
    "\n",
    "# create a 3D array of shape (2, 2, 2) of random numbers\n",
    "array2 = np.random.rand(2, 2, 2)\n",
    "\n",
    "print(\"\\n3-D Array: \")\n",
    "print(array2)"
   ]
  },
  {
   "cell_type": "code",
   "execution_count": 15,
   "id": "802df937",
   "metadata": {},
   "outputs": [
    {
     "name": "stdout",
     "output_type": "stream",
     "text": [
      "Array: [[5 5]\n",
      " [5 5]]\n"
     ]
    }
   ],
   "source": [
    "import numpy as np\n",
    "\n",
    "# Create a 2-D array with elements initialized to 5 \n",
    "numpy_array = np.full((2, 2), 5)\n",
    "\n",
    "print(\"Array:\", numpy_array)"
   ]
  },
  {
   "cell_type": "code",
   "execution_count": 17,
   "id": "cd41bf2d",
   "metadata": {},
   "outputs": [
    {
     "name": "stdout",
     "output_type": "stream",
     "text": [
      "Array: [[[5 5]\n",
      "  [5 5]]\n",
      "\n",
      " [[5 5]\n",
      "  [5 5]]]\n"
     ]
    }
   ],
   "source": [
    "import numpy as np\n",
    "\n",
    "# Create a 3-D array with elements initialized to 5 \n",
    "numpy_array = np.full((2, 2, 2), 5)\n",
    "\n",
    "print(\"Array:\", numpy_array)"
   ]
  },
  {
   "cell_type": "markdown",
   "id": "ee1fe900",
   "metadata": {},
   "source": [
    "### Data Type"
   ]
  },
  {
   "cell_type": "code",
   "execution_count": 18,
   "id": "3772a439",
   "metadata": {},
   "outputs": [
    {
     "name": "stdout",
     "output_type": "stream",
     "text": [
      "int32\n",
      "float64\n",
      "complex128\n"
     ]
    }
   ],
   "source": [
    "import numpy as np\n",
    "\n",
    "# create an array of  integers\n",
    "int_array = np.array([-3, -1, 0, 1])\n",
    "\n",
    "# create an array of floating-point numbers\n",
    "float_array = np.array([0.1, 0.2, 0.3])\n",
    "\n",
    "# create an array of complex numbers\n",
    "complex_array = np.array([1+2j, 2+3j, 3+4j])\n",
    "\n",
    "# check the data type of int_array\n",
    "print(int_array.dtype)  # prints int64\n",
    "\n",
    "# check the data type of float_array\n",
    "print(float_array.dtype)  # prints float64\n",
    "\n",
    "# check the data type of complex_array\n",
    "print(complex_array.dtype)  # prints complex128"
   ]
  },
  {
   "cell_type": "code",
   "execution_count": 19,
   "id": "7d01845b",
   "metadata": {},
   "outputs": [
    {
     "name": "stdout",
     "output_type": "stream",
     "text": [
      "[1 3 7] int32\n"
     ]
    }
   ],
   "source": [
    "import numpy as np\n",
    "\n",
    "# create an array of 32-bit integers\n",
    "array1 = np.array([1, 3, 7], dtype='int32')\n",
    "\n",
    "print(array1, array1.dtype)"
   ]
  },
  {
   "cell_type": "code",
   "execution_count": 20,
   "id": "b2568b86",
   "metadata": {},
   "outputs": [
    {
     "name": "stdout",
     "output_type": "stream",
     "text": [
      "[1 3 7] int8\n",
      "[2 4 6] uint16\n",
      "[1.2 2.3 3.4] float32\n",
      "[1.+2.j 2.+3.j 3.+4.j] complex64\n"
     ]
    }
   ],
   "source": [
    "import numpy as np\n",
    "\n",
    "# create an array of 8-bit integers\n",
    "array1 = np.array([1, 3, 7], dtype='int8')\n",
    "\n",
    "# create an array of unsigned 16-bit integers\n",
    "array2 = np.array([2, 4, 6], dtype='uint16')\n",
    "\n",
    "# create an array of 32-bit floating-point numbers\n",
    "array3 = np.array([1.2, 2.3, 3.4], dtype='float32')\n",
    "\n",
    "# create an array of 64-bit complex numbers\n",
    "array4 = np.array([1+2j, 2+3j, 3+4j], dtype='complex64')\n",
    "\n",
    "# print the arrays and their data types\n",
    "print(array1, array1.dtype)\n",
    "print(array2, array2.dtype)\n",
    "print(array3, array3.dtype)\n",
    "print(array4, array4.dtype)"
   ]
  },
  {
   "cell_type": "code",
   "execution_count": 21,
   "id": "934c5177",
   "metadata": {},
   "outputs": [
    {
     "name": "stdout",
     "output_type": "stream",
     "text": [
      "[1 3 5 7] int32\n",
      "[1. 3. 5. 7.] float64\n"
     ]
    }
   ],
   "source": [
    "import numpy as np\n",
    "\n",
    "# create an array of integers\n",
    "int_array = np.array([1, 3, 5, 7])\n",
    "\n",
    "# convert data type of int_array to float\n",
    "float_array = int_array.astype('float')\n",
    "\n",
    "# print the arrays and their data types\n",
    "print(int_array, int_array.dtype)\n",
    "print(float_array, float_array.dtype)"
   ]
  },
  {
   "cell_type": "markdown",
   "id": "21897f7a",
   "metadata": {},
   "source": [
    "# Indexing"
   ]
  },
  {
   "cell_type": "code",
   "execution_count": 22,
   "id": "b665be51",
   "metadata": {},
   "outputs": [
    {
     "name": "stdout",
     "output_type": "stream",
     "text": [
      "1\n",
      "5\n",
      "9\n"
     ]
    }
   ],
   "source": [
    "import numpy as np\n",
    "\n",
    "array1 = np.array([1, 3, 5, 7, 9])\n",
    "\n",
    "# access numpy elements using index\n",
    "print(array1[0])    # prints 1\n",
    "print(array1[2])    # prints 5\n",
    "print(array1[4])    # prints 9"
   ]
  },
  {
   "cell_type": "code",
   "execution_count": 23,
   "id": "fd95c8d6",
   "metadata": {},
   "outputs": [
    {
     "name": "stdout",
     "output_type": "stream",
     "text": [
      "9\n",
      "7\n"
     ]
    }
   ],
   "source": [
    "import numpy as np\n",
    "\n",
    "# create a numpy array\n",
    "numbers = np.array([1, 3, 5, 7, 9])\n",
    "\n",
    "# access the last element\n",
    "print(numbers[-1])    # prints 9\n",
    "\n",
    "# access the second-to-last element\n",
    "print(numbers[-2])    # prints 7"
   ]
  },
  {
   "cell_type": "code",
   "execution_count": 24,
   "id": "36ea85e5",
   "metadata": {},
   "outputs": [
    {
     "data": {
      "text/plain": [
       "6"
      ]
     },
     "execution_count": 24,
     "metadata": {},
     "output_type": "execute_result"
    }
   ],
   "source": [
    "array1 = np.array([[1, 3, 5], \n",
    "                     [7, 9, 2], \n",
    "                     [4, 6, 8]])\n",
    "array1[2, 1] # returns 6"
   ]
  },
  {
   "cell_type": "code",
   "execution_count": 25,
   "id": "6454faf5",
   "metadata": {},
   "outputs": [
    {
     "name": "stdout",
     "output_type": "stream",
     "text": [
      "4th Element at 2nd Row: 15\n",
      "2nd Element at First Row: 3\n"
     ]
    }
   ],
   "source": [
    "import numpy as np\n",
    "\n",
    "# create a 2D array \n",
    "array1 = np.array([[1, 3, 5, 7], \n",
    "                       [9, 11, 13, 15],\n",
    "                       [2, 4, 6, 8]])\n",
    "\n",
    "\n",
    "# access the element at the second row and fourth column\n",
    "element1 = array1[1, 3]  # returns 15\n",
    "print(\"4th Element at 2nd Row:\",element1)  \n",
    "\n",
    "# access the element at the first row and second column\n",
    "element2 = array1[0, 1]  # returns 3\n",
    "print(\"2nd Element at First Row:\",element2)  "
   ]
  },
  {
   "cell_type": "code",
   "execution_count": 26,
   "id": "ac5f5272",
   "metadata": {},
   "outputs": [
    {
     "name": "stdout",
     "output_type": "stream",
     "text": [
      "Second Row: [7 9 2]\n",
      "Third Column: [5 2 8]\n"
     ]
    }
   ],
   "source": [
    "import numpy as np\n",
    "\n",
    "# create a 2D array \n",
    "array1 = np.array([[1, 3, 5], \n",
    "             [7, 9, 2], \n",
    "             [4, 6, 8]])\n",
    "\n",
    "# access the second row of the array\n",
    "second_row = array1[1, :]\n",
    "print(\"Second Row:\", second_row)  # Output: [7 9 2]\n",
    "\n",
    "# access the third column of the array\n",
    "third_col = array1[:, 2]\n",
    "print(\"Third Column:\", third_col)  # Output: [5 2 8]"
   ]
  },
  {
   "cell_type": "code",
   "execution_count": 27,
   "id": "73d72add",
   "metadata": {},
   "outputs": [
    {
     "name": "stdout",
     "output_type": "stream",
     "text": [
      "Second Row: [9 2]\n"
     ]
    }
   ],
   "source": [
    "# access the second row of the array\n",
    "second_row = array1[1, 1:3]\n",
    "print(\"Second Row:\", second_row)  # Output: [7 9 2]"
   ]
  },
  {
   "cell_type": "code",
   "execution_count": 30,
   "id": "5a549f32",
   "metadata": {},
   "outputs": [
    {
     "name": "stdout",
     "output_type": "stream",
     "text": [
      "13\n"
     ]
    }
   ],
   "source": [
    "# create a 2D array\n",
    "array1 = np.array([[1, 3, 5, 7], \n",
    "                   [9, 11, 13, 15]])\n",
    "\n",
    "print(array1[1, 2])"
   ]
  },
  {
   "cell_type": "code",
   "execution_count": 31,
   "id": "71b84f68",
   "metadata": {},
   "outputs": [
    {
     "name": "stdout",
     "output_type": "stream",
     "text": [
      "First Two Rows and Columns: \n",
      " [[ 1  3]\n",
      " [ 9 11]]\n",
      "Last two Rows and Columns: \n",
      " [[13 15]\n",
      " [ 6  8]]\n"
     ]
    }
   ],
   "source": [
    "import numpy as np\n",
    "\n",
    "# create a 2D array \n",
    "array1 = np.array([[1, 3, 5, 7], \n",
    "                      [9, 11, 13, 15],\n",
    "                      [2, 4, 6, 8]])\n",
    "\n",
    "\n",
    "# slice the array to get the first two rows and columns\n",
    "subarray1 = array1[:2, :2]\n",
    "\n",
    "# slice the array to get the last two rows and columns\n",
    "subarray2 = array1[1:3, 2:4]\n",
    "\n",
    "# print the subarrays\n",
    "print(\"First Two Rows and Columns: \\n\",subarray1)\n",
    "print(\"Last two Rows and Columns: \\n\",subarray2)"
   ]
  }
 ],
 "metadata": {
  "kernelspec": {
   "display_name": "Python 3 (ipykernel)",
   "language": "python",
   "name": "python3"
  },
  "language_info": {
   "codemirror_mode": {
    "name": "ipython",
    "version": 3
   },
   "file_extension": ".py",
   "mimetype": "text/x-python",
   "name": "python",
   "nbconvert_exporter": "python",
   "pygments_lexer": "ipython3",
   "version": "3.9.12"
  }
 },
 "nbformat": 4,
 "nbformat_minor": 5
}

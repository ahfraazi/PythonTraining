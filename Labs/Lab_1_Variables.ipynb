{
 "cells": [
  {
   "cell_type": "markdown",
   "id": "48f5df73",
   "metadata": {},
   "source": [
    "### Basic Built-in Datatypes\n",
    "No explicit need to declare variables or datatype."
   ]
  },
  {
   "cell_type": "code",
   "execution_count": 1,
   "id": "284c88f0",
   "metadata": {},
   "outputs": [],
   "source": [
    "x = 5    # Declaring Integer"
   ]
  },
  {
   "cell_type": "markdown",
   "id": "eb9cc4c7",
   "metadata": {},
   "source": [
    "Floats are represented as double in C"
   ]
  },
  {
   "cell_type": "code",
   "execution_count": 2,
   "id": "dc333e3b",
   "metadata": {},
   "outputs": [],
   "source": [
    "y = 1.0  # Declaring Float"
   ]
  },
  {
   "cell_type": "markdown",
   "id": "d0af3e37",
   "metadata": {},
   "source": [
    "Complex Numbers with Real and Imaginary Part"
   ]
  },
  {
   "cell_type": "code",
   "execution_count": 3,
   "id": "f70c57bf",
   "metadata": {},
   "outputs": [],
   "source": [
    "z = 1 + 2j # Declaring Complex Number"
   ]
  },
  {
   "cell_type": "markdown",
   "id": "5dbe9102",
   "metadata": {},
   "source": [
    "Strings can be declared with signal or double quotes"
   ]
  },
  {
   "cell_type": "code",
   "execution_count": 4,
   "id": "75f90546",
   "metadata": {},
   "outputs": [],
   "source": [
    "a = \"Hello, World!\" # Declaring String\n",
    "b = 'Python'"
   ]
  },
  {
   "cell_type": "markdown",
   "id": "06e3678c",
   "metadata": {},
   "source": [
    "Boolean Data Type"
   ]
  },
  {
   "cell_type": "code",
   "execution_count": 5,
   "id": "663fc933",
   "metadata": {},
   "outputs": [],
   "source": [
    "# Can also be represented by 1's and 0's\n",
    "bool_ture = True    \n",
    "bool_false = False"
   ]
  },
  {
   "cell_type": "markdown",
   "id": "85746abf",
   "metadata": {},
   "source": [
    "### Other Types of Data Types that will be discussed later"
   ]
  },
  {
   "cell_type": "markdown",
   "id": "a522f7ea",
   "metadata": {},
   "source": [
    "#### Dictionary"
   ]
  },
  {
   "cell_type": "code",
   "execution_count": 6,
   "id": "323c5e57",
   "metadata": {},
   "outputs": [
    {
     "name": "stdout",
     "output_type": "stream",
     "text": [
      "{'car': 'Honda', 'model': 2020, 'color': 'White'}\n",
      "<class 'dict'>\n"
     ]
    }
   ],
   "source": [
    "d = {\n",
    "    \"car\": \"Honda\",\n",
    "    \"model\": 2020,\n",
    "    \"color\": \"White\"\n",
    "}\n",
    "print(d)\n",
    "print(type(d))"
   ]
  },
  {
   "cell_type": "markdown",
   "id": "3e6cef61",
   "metadata": {},
   "source": [
    "#### Lists"
   ]
  },
  {
   "cell_type": "code",
   "execution_count": 7,
   "id": "ddfb22d0",
   "metadata": {},
   "outputs": [
    {
     "name": "stdout",
     "output_type": "stream",
     "text": [
      "['abc', 1, (1+0.5j), -0.01]\n"
     ]
    }
   ],
   "source": [
    "l = [\"abc\", 1, 1 + 0.5j, -0.01]\n",
    "print(l)"
   ]
  },
  {
   "cell_type": "markdown",
   "id": "ce092889",
   "metadata": {},
   "source": [
    "#### Tuples"
   ]
  },
  {
   "cell_type": "code",
   "execution_count": 8,
   "id": "9df57b2d",
   "metadata": {},
   "outputs": [
    {
     "name": "stdout",
     "output_type": "stream",
     "text": [
      "('abc', 1, (1+0.5j), -0.01)\n",
      "<class 'tuple'>\n"
     ]
    }
   ],
   "source": [
    "t = (\"abc\", 1, 1 + 0.5j, -0.01)\n",
    "print(t)\n",
    "print(type(t))"
   ]
  },
  {
   "cell_type": "markdown",
   "id": "32871823",
   "metadata": {},
   "source": [
    "#### Sets"
   ]
  },
  {
   "cell_type": "code",
   "execution_count": 9,
   "id": "6ccd28d7",
   "metadata": {},
   "outputs": [
    {
     "name": "stdout",
     "output_type": "stream",
     "text": [
      "{1, 'abc', -0.01, (1+0.5j)}\n",
      "<class 'set'>\n"
     ]
    }
   ],
   "source": [
    "s = {\"abc\", 1, 1 + 0.5j, -0.01}\n",
    "print(s)\n",
    "print(type(s))"
   ]
  },
  {
   "cell_type": "markdown",
   "id": "fa140c96",
   "metadata": {},
   "source": [
    "#### Range"
   ]
  },
  {
   "cell_type": "code",
   "execution_count": 10,
   "id": "2a24da72",
   "metadata": {},
   "outputs": [
    {
     "name": "stdout",
     "output_type": "stream",
     "text": [
      "range(0, 5)\n"
     ]
    }
   ],
   "source": [
    "r = range(5)\n",
    "print(r)"
   ]
  },
  {
   "cell_type": "markdown",
   "id": "75cd360f",
   "metadata": {},
   "source": [
    "#### Bytes"
   ]
  },
  {
   "cell_type": "code",
   "execution_count": 11,
   "id": "92371cf1",
   "metadata": {},
   "outputs": [
    {
     "name": "stdout",
     "output_type": "stream",
     "text": [
      "\n",
      "<class 'bytes'>\n"
     ]
    }
   ],
   "source": [
    "n = b\"Hello\"\n",
    "print()\n",
    "print(type(n))"
   ]
  },
  {
   "cell_type": "markdown",
   "id": "89d7498e",
   "metadata": {},
   "source": [
    "### Methods for Datatypes"
   ]
  },
  {
   "cell_type": "markdown",
   "id": "23501c2b",
   "metadata": {},
   "source": [
    "#### Integer"
   ]
  },
  {
   "cell_type": "code",
   "execution_count": 12,
   "id": "f13b4561",
   "metadata": {},
   "outputs": [
    {
     "name": "stdout",
     "output_type": "stream",
     "text": [
      "5\n"
     ]
    }
   ],
   "source": [
    "print(int(5.15)) # Converting Floats to integer"
   ]
  },
  {
   "cell_type": "code",
   "execution_count": 13,
   "id": "f906b885",
   "metadata": {},
   "outputs": [
    {
     "name": "stdout",
     "output_type": "stream",
     "text": [
      "3\n"
     ]
    }
   ],
   "source": [
    "print(x.bit_length())"
   ]
  },
  {
   "cell_type": "code",
   "execution_count": 14,
   "id": "67957560",
   "metadata": {},
   "outputs": [
    {
     "name": "stdout",
     "output_type": "stream",
     "text": [
      "2\n"
     ]
    }
   ],
   "source": [
    "print(x.bit_count())  # Returns only Count of Bits with 1 Value"
   ]
  },
  {
   "cell_type": "code",
   "execution_count": 15,
   "id": "846c1caf",
   "metadata": {},
   "outputs": [
    {
     "name": "stdout",
     "output_type": "stream",
     "text": [
      "b'\\x05\\x00\\x00\\x00\\x00\\x00\\x00\\x00'\n",
      "b'\\x00\\x00\\x00\\x00\\x00\\x00\\x00\\x05'\n"
     ]
    }
   ],
   "source": [
    "print(x.to_bytes(8, byteorder='little'))\n",
    "print(x.to_bytes(8, byteorder='big'))"
   ]
  },
  {
   "cell_type": "markdown",
   "id": "5b1a2ff8",
   "metadata": {},
   "source": [
    "#### Float"
   ]
  },
  {
   "cell_type": "code",
   "execution_count": 16,
   "id": "87e61ae1",
   "metadata": {},
   "outputs": [
    {
     "name": "stdout",
     "output_type": "stream",
     "text": [
      "5.0\n"
     ]
    }
   ],
   "source": [
    "print(float(5))"
   ]
  },
  {
   "cell_type": "code",
   "execution_count": 17,
   "id": "9486ddbb",
   "metadata": {},
   "outputs": [
    {
     "name": "stdout",
     "output_type": "stream",
     "text": [
      "49.62890625\n"
     ]
    }
   ],
   "source": [
    "print(float.fromhex('0x31.A1'))"
   ]
  },
  {
   "cell_type": "code",
   "execution_count": 18,
   "id": "bff71a27",
   "metadata": {},
   "outputs": [
    {
     "name": "stdout",
     "output_type": "stream",
     "text": [
      "0x1.6800000000000p+5\n"
     ]
    }
   ],
   "source": [
    "print(float.hex(45.0))"
   ]
  },
  {
   "cell_type": "markdown",
   "id": "d19c4bdc",
   "metadata": {},
   "source": [
    "#### Complex Numbers"
   ]
  },
  {
   "cell_type": "code",
   "execution_count": 19,
   "id": "5a9fbde3",
   "metadata": {},
   "outputs": [
    {
     "name": "stdout",
     "output_type": "stream",
     "text": [
      "(5+0.5j)\n"
     ]
    }
   ],
   "source": [
    "print(complex(5, 0.5))"
   ]
  },
  {
   "cell_type": "code",
   "execution_count": 20,
   "id": "6984af26",
   "metadata": {},
   "outputs": [
    {
     "name": "stdout",
     "output_type": "stream",
     "text": [
      "1.0\n",
      "2.0\n",
      "(1-2j)\n"
     ]
    }
   ],
   "source": [
    "print(z.real)\n",
    "print(z.imag)\n",
    "print(z.conjugate())"
   ]
  },
  {
   "cell_type": "code",
   "execution_count": 21,
   "id": "6d724c7d",
   "metadata": {},
   "outputs": [
    {
     "data": {
      "text/plain": [
       "complex"
      ]
     },
     "execution_count": 21,
     "metadata": {},
     "output_type": "execute_result"
    }
   ],
   "source": [
    "type(z)"
   ]
  },
  {
   "cell_type": "markdown",
   "id": "35fb8550",
   "metadata": {},
   "source": [
    "#### Strings"
   ]
  },
  {
   "cell_type": "code",
   "execution_count": 24,
   "id": "44489945",
   "metadata": {},
   "outputs": [
    {
     "name": "stdout",
     "output_type": "stream",
     "text": [
      "13\n"
     ]
    }
   ],
   "source": [
    "print(len(a))"
   ]
  },
  {
   "cell_type": "code",
   "execution_count": 27,
   "id": "99bcf6e8",
   "metadata": {},
   "outputs": [
    {
     "name": "stdout",
     "output_type": "stream",
     "text": [
      "HELLO, WORLD!\n"
     ]
    }
   ],
   "source": [
    "print(a.upper())"
   ]
  },
  {
   "cell_type": "code",
   "execution_count": 28,
   "id": "9edae24d",
   "metadata": {},
   "outputs": [
    {
     "name": "stdout",
     "output_type": "stream",
     "text": [
      "python\n"
     ]
    }
   ],
   "source": [
    "print(b.lower())"
   ]
  },
  {
   "cell_type": "code",
   "execution_count": 32,
   "id": "475a04b4",
   "metadata": {},
   "outputs": [
    {
     "name": "stdout",
     "output_type": "stream",
     "text": [
      "This Is A Car\n"
     ]
    }
   ],
   "source": [
    "print(\"this is a car\".title())"
   ]
  },
  {
   "cell_type": "code",
   "execution_count": 33,
   "id": "517f28ba",
   "metadata": {},
   "outputs": [
    {
     "name": "stdout",
     "output_type": "stream",
     "text": [
      "['This', 'is', 'a', 'car']\n"
     ]
    }
   ],
   "source": [
    "print(\"This,is,a,car\".split(\",\"))"
   ]
  },
  {
   "cell_type": "code",
   "execution_count": 43,
   "id": "3e712612",
   "metadata": {},
   "outputs": [
    {
     "name": "stdout",
     "output_type": "stream",
     "text": [
      "this is a car\n"
     ]
    }
   ],
   "source": [
    "print(\" \".join([\"this\", \"is\", \"a\" ,\"car\"]))"
   ]
  },
  {
   "cell_type": "code",
   "execution_count": 44,
   "id": "e3bb42a4",
   "metadata": {},
   "outputs": [
    {
     "name": "stdout",
     "output_type": "stream",
     "text": [
      "7\n"
     ]
    }
   ],
   "source": [
    "print(a.find(\"World\"))"
   ]
  },
  {
   "cell_type": "code",
   "execution_count": 45,
   "id": "49889726",
   "metadata": {},
   "outputs": [
    {
     "name": "stdout",
     "output_type": "stream",
     "text": [
      "W\n"
     ]
    }
   ],
   "source": [
    "print(a[7])"
   ]
  },
  {
   "cell_type": "code",
   "execution_count": 46,
   "id": "1fabafa0",
   "metadata": {},
   "outputs": [
    {
     "name": "stdout",
     "output_type": "stream",
     "text": [
      "Hello, World!\n"
     ]
    }
   ],
   "source": [
    "print(a)"
   ]
  },
  {
   "cell_type": "code",
   "execution_count": 47,
   "id": "86310057",
   "metadata": {},
   "outputs": [
    {
     "name": "stdout",
     "output_type": "stream",
     "text": [
      "Hello, World\n"
     ]
    }
   ],
   "source": [
    "print(a.strip(\"!\"))"
   ]
  },
  {
   "cell_type": "code",
   "execution_count": 51,
   "id": "5fa9485b",
   "metadata": {},
   "outputs": [
    {
     "name": "stdout",
     "output_type": "stream",
     "text": [
      "0000000Hello, World!\n"
     ]
    }
   ],
   "source": [
    "print(a.zfill(20))"
   ]
  }
 ],
 "metadata": {
  "kernelspec": {
   "display_name": "Python 3 (ipykernel)",
   "language": "python",
   "name": "python3"
  },
  "language_info": {
   "codemirror_mode": {
    "name": "ipython",
    "version": 3
   },
   "file_extension": ".py",
   "mimetype": "text/x-python",
   "name": "python",
   "nbconvert_exporter": "python",
   "pygments_lexer": "ipython3",
   "version": "3.11.4"
  }
 },
 "nbformat": 4,
 "nbformat_minor": 5
}
